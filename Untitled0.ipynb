{
  "nbformat": 4,
  "nbformat_minor": 0,
  "metadata": {
    "colab": {
      "provenance": [],
      "authorship_tag": "ABX9TyNB4hCpjpHWPWquDgHfTkc/",
      "include_colab_link": true
    },
    "kernelspec": {
      "name": "python3",
      "display_name": "Python 3"
    },
    "language_info": {
      "name": "python"
    }
  },
  "cells": [
    {
      "cell_type": "markdown",
      "metadata": {
        "id": "view-in-github",
        "colab_type": "text"
      },
      "source": [
        "<a href=\"https://colab.research.google.com/github/Almogod/denvey/blob/main/Untitled0.ipynb\" target=\"_parent\"><img src=\"https://colab.research.google.com/assets/colab-badge.svg\" alt=\"Open In Colab\"/></a>"
      ]
    },
    {
      "cell_type": "code",
      "execution_count": 16,
      "metadata": {
        "colab": {
          "base_uri": "https://localhost:8080/"
        },
        "id": "8a3gygNouxIR",
        "outputId": "7bd49473-6e4a-4236-af27-ad707d0d76f4"
      },
      "outputs": [
        {
          "output_type": "stream",
          "name": "stdout",
          "text": [
            "Drive already mounted at /content/drive; to attempt to forcibly remount, call drive.mount(\"/content/drive\", force_remount=True).\n",
            "Dataset Preview:\n",
            "   index  ground_clearance  height category\n",
            "0      1               225    1737      suv\n",
            "1      2               232    1742      suv\n",
            "2      3               175    1472    sedan\n",
            "3      4               168    1375    sedan\n",
            "4      5               222    1710      suv\n"
          ]
        }
      ],
      "source": [
        "import pandas as pd\n",
        "from google.colab import drive\n",
        "\n",
        "drive.mount('/content/drive') # This will prompt you to authorize Google Drive access\n",
        "\n",
        "# After mounting, you can access your files via the '/content/drive/My Drive/' path\n",
        "df = pd.read_csv('/content/drive/My Drive/Colab Notebooks/dataset.csv')\n",
        "print(\"Dataset Preview:\")\n",
        "print(df.head())"
      ]
    },
    {
      "cell_type": "code",
      "source": [
        "from sklearn.model_selection import train_test_split\n",
        "\n",
        "# Assume the last column is the target\n",
        "X = df.iloc[:, :-1]  # Features\n",
        "y = df.iloc[:, -1]   # Target\n",
        "\n",
        "# Split data\n",
        "X_train, X_test, y_train, y_test = train_test_split(X, y, test_size=0.30, random_state=42)\n",
        "\n",
        "# Display training features\n",
        "print(\"Training Features (X_train):\")\n",
        "print(X_train)\n"
      ],
      "metadata": {
        "colab": {
          "base_uri": "https://localhost:8080/"
        },
        "id": "1sf6YLYSBn1d",
        "outputId": "75484921-0ea4-42fc-b11d-02832cc3d373"
      },
      "execution_count": 17,
      "outputs": [
        {
          "output_type": "stream",
          "name": "stdout",
          "text": [
            "Training Features (X_train):\n",
            "    index  ground_clearance  height\n",
            "11     12               178    1465\n",
            "3       4               168    1375\n",
            "4       5               222    1710\n",
            "17     18               176    1468\n",
            "12     13               168    1370\n",
            "18     19               174    1475\n",
            "16     17               240    1872\n",
            "2       3               175    1472\n",
            "9      10               232    1758\n",
            "21     22               205    1690\n",
            "7       8               218    1695\n",
            "10     11               166    1291\n",
            "14     15               212    1685\n",
            "19     20               205    1690\n",
            "6       7               210    1690\n"
          ]
        }
      ]
    }
  ]
}