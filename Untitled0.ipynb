{
  "nbformat": 4,
  "nbformat_minor": 0,
  "metadata": {
    "colab": {
      "provenance": [],
      "authorship_tag": "ABX9TyPpZwBEm+ZLvGkDnqX03iL/",
      "include_colab_link": true
    },
    "kernelspec": {
      "name": "python3",
      "display_name": "Python 3"
    },
    "language_info": {
      "name": "python"
    }
  },
  "cells": [
    {
      "cell_type": "markdown",
      "metadata": {
        "id": "view-in-github",
        "colab_type": "text"
      },
      "source": [
        "<a href=\"https://colab.research.google.com/github/Almogod/denvey/blob/main/Untitled0.ipynb\" target=\"_parent\"><img src=\"https://colab.research.google.com/assets/colab-badge.svg\" alt=\"Open In Colab\"/></a>"
      ]
    },
    {
      "cell_type": "code",
      "execution_count": 16,
      "metadata": {
        "colab": {
          "base_uri": "https://localhost:8080/"
        },
        "id": "8a3gygNouxIR",
        "outputId": "7bd49473-6e4a-4236-af27-ad707d0d76f4"
      },
      "outputs": [
        {
          "output_type": "stream",
          "name": "stdout",
          "text": [
            "Drive already mounted at /content/drive; to attempt to forcibly remount, call drive.mount(\"/content/drive\", force_remount=True).\n",
            "Dataset Preview:\n",
            "   index  ground_clearance  height category\n",
            "0      1               225    1737      suv\n",
            "1      2               232    1742      suv\n",
            "2      3               175    1472    sedan\n",
            "3      4               168    1375    sedan\n",
            "4      5               222    1710      suv\n"
          ]
        }
      ],
      "source": [
        "import pandas as pd\n",
        "from google.colab import drive\n",
        "\n",
        "drive.mount('/content/drive') # This will prompt you to authorize Google Drive access\n",
        "\n",
        "# After mounting, you can access your files via the '/content/drive/My Drive/' path\n",
        "df = pd.read_csv('/content/drive/My Drive/Colab Notebooks/dataset.csv')\n",
        "print(\"Dataset Preview:\")\n",
        "print(df.head())"
      ]
    }
  ]
}