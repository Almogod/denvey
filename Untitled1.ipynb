{
  "nbformat": 4,
  "nbformat_minor": 0,
  "metadata": {
    "colab": {
      "provenance": [],
      "authorship_tag": "ABX9TyPGi42ItWpshybCNA/VASJO",
      "include_colab_link": true
    },
    "kernelspec": {
      "name": "python3",
      "display_name": "Python 3"
    },
    "language_info": {
      "name": "python"
    }
  },
  "cells": [
    {
      "cell_type": "markdown",
      "metadata": {
        "id": "view-in-github",
        "colab_type": "text"
      },
      "source": [
        "<a href=\"https://colab.research.google.com/github/Almogod/denvey/blob/main/Untitled1.ipynb\" target=\"_parent\"><img src=\"https://colab.research.google.com/assets/colab-badge.svg\" alt=\"Open In Colab\"/></a>"
      ]
    },
    {
      "cell_type": "code",
      "execution_count": 1,
      "metadata": {
        "id": "8MYQyincDRvD"
      },
      "outputs": [],
      "source": [
        "import pandas as pd\n",
        "import numpy as np\n",
        "from sklearn.preprocessing import MinMaxScaler"
      ]
    },
    {
      "cell_type": "code",
      "source": [
        "from google.colab import drive\n",
        "drive.mount('/content/drive')\n",
        "df = pd.read_csv('/content/drive/My Drive/Colab Notebooks/student.csv')\n",
        "print(\"Original Data:\\n\")\n",
        "print(df.head())"
      ],
      "metadata": {
        "colab": {
          "base_uri": "https://localhost:8080/"
        },
        "id": "KMCoYmfcEZGK",
        "outputId": "f2f6dd46-cded-432f-aebf-fc8fd57f9b75"
      },
      "execution_count": 5,
      "outputs": [
        {
          "output_type": "stream",
          "name": "stdout",
          "text": [
            "Drive already mounted at /content/drive; to attempt to forcibly remount, call drive.mount(\"/content/drive\", force_remount=True).\n",
            "Original Data:\n",
            "\n",
            "    Name  Math  Science  Age\n",
            "0    Anu  78.0     88.0   15\n",
            "1   Binu  90.0      NaN   14\n",
            "2  Chinu   NaN     76.0   16\n",
            "3  Deepa  85.0     92.0  -14\n",
            "4    NaN  99.0     60.0   17\n"
          ]
        }
      ]
    },
    {
      "cell_type": "code",
      "source": [
        "df.fillna(df.mean(numeric_only=True), inplace=True)"
      ],
      "metadata": {
        "id": "SQ_-rDaZFEcI"
      },
      "execution_count": 6,
      "outputs": []
    },
    {
      "cell_type": "code",
      "source": [
        "df.drop_duplicates(inplace=True)"
      ],
      "metadata": {
        "id": "SBIsCQBiFM1h"
      },
      "execution_count": 7,
      "outputs": []
    },
    {
      "cell_type": "code",
      "source": [
        "numerical_cols = df.select_dtypes(include=[np.number]).columns\n",
        "scaler = MinMaxScaler()\n",
        "df[numerical_cols] = scaler.fit_transform(df[numerical_cols])"
      ],
      "metadata": {
        "id": "r8eqxHriFSKw"
      },
      "execution_count": 8,
      "outputs": []
    },
    {
      "cell_type": "code",
      "source": [
        "def get_grade(score):\n",
        "    score = score * 100\n",
        "    if score < 50:\n",
        "        return 'F'\n",
        "    elif score < 60:\n",
        "        return 'D'\n",
        "    elif score < 70:\n",
        "        return 'C'\n",
        "    elif score < 80:\n",
        "        return 'B'\n",
        "    else:\n",
        "        return 'A'\n",
        "df['Math_Grade'] = df['Math'].apply(get_grade)"
      ],
      "metadata": {
        "id": "Q3f87AKEFYS0"
      },
      "execution_count": 12,
      "outputs": []
    },
    {
      "cell_type": "code",
      "source": [
        "df['Math_Binned'] = pd.cut(df['Math'], bins=3, labels=['Low', 'Medium', 'High'])\n",
        "print(\"\\nProcessed Data:\\n\")\n",
        "print(df.head())"
      ],
      "metadata": {
        "colab": {
          "base_uri": "https://localhost:8080/"
        },
        "id": "ymyApBhFFadw",
        "outputId": "5be3350d-a80b-4813-d24c-cf206e4ba55d"
      },
      "execution_count": 13,
      "outputs": [
        {
          "output_type": "stream",
          "name": "stdout",
          "text": [
            "\n",
            "Processed Data:\n",
            "\n",
            "    Name      Math  Science       Age Math_Grade Math_Binned\n",
            "0    Anu  0.000000  0.87500  0.935484          F         Low\n",
            "1   Binu  0.571429  0.59375  0.903226          D      Medium\n",
            "2  Chinu  0.495238  0.50000  0.967742          F      Medium\n",
            "3  Deepa  0.333333  1.00000  0.000000          F         Low\n",
            "4    NaN  1.000000  0.00000  1.000000          A        High\n"
          ]
        }
      ]
    }
  ]
}